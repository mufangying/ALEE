{
 "cells": [
  {
   "cell_type": "markdown",
   "id": "494b883b",
   "metadata": {},
   "source": [
    "# Asymptotic normality - one dimension examples"
   ]
  },
  {
   "cell_type": "markdown",
   "id": "fbd6f95a",
   "metadata": {},
   "source": [
    "## Two-armed bandit  and AR(1) model"
   ]
  },
  {
   "cell_type": "code",
   "execution_count": 1,
   "id": "7f5bcee7",
   "metadata": {},
   "outputs": [],
   "source": [
    "import numpy as np\n",
    "from sklearn.linear_model import LinearRegression\n",
    "import seaborn as sns\n",
    "import matplotlib.pyplot as plt\n",
    "import numpy as np\n",
    "from scipy.stats import norm\n",
    "import pandas as pd\n",
    "import scipy"
   ]
  },
  {
   "cell_type": "markdown",
   "id": "9cd2a053",
   "metadata": {},
   "source": [
    "## Two-armed bandit with $\\epsilon$-Greedy algorithm"
   ]
  },
  {
   "cell_type": "code",
   "execution_count": 2,
   "id": "be0a23f9",
   "metadata": {},
   "outputs": [],
   "source": [
    "# define reward function\n",
    "def reward():\n",
    "    # true signal 0.3\n",
    "    return  0.3 + np.random.normal(0,1,1)[0]\n",
    "\n",
    "\n",
    "# define function for generating predictable weights w_t\n",
    "def f(x):\n",
    "    return 1/np.sqrt(x*np.log(np.exp(2)*x)*np.log(np.log(np.exp(2)*x))**2)\n",
    "\n",
    "\n",
    "# define eps Greedy algorithm\n",
    "def ECB(n):\n",
    "    rewards_seq = np.array([reward() for i in range(n)])\n",
    "    x = [0, 1]\n",
    "    y = [rewards_seq[0], rewards_seq[1]]\n",
    "    nums = np.array([1 , 1 ])\n",
    "    rewards = np.array(y)\n",
    "    \n",
    "    for i in range(n-2):\n",
    "        # compute arm means\n",
    "        arm_means = rewards/nums\n",
    "        arm = np.argmax(arm_means)\n",
    "        flag = np.random.uniform(0,1,1)[0]\n",
    "        # defining decaying rate\n",
    "        if flag > 1 - np.log(i+1)**0.5/np.sqrt(i+1) and i>50:\n",
    "            arm = 1 - arm\n",
    "        x.append(arm)\n",
    "        newr = rewards_seq[i+2]\n",
    "        y.append(newr)\n",
    "        nums[arm] += 1\n",
    "        rewards[arm] += newr\n",
    "    # return the noise sequence\n",
    "    return x, y, rewards_seq - 0.3\n",
    "\n",
    "# Generate the histogram of the fraction of the number of first arm pulled to the total number of runs\n",
    "def ECB_hist():\n",
    "    n = 1000\n",
    "    rewards_seq = np.array([reward() for i in range(n)])\n",
    "    x = [0, 1]\n",
    "    y = [rewards_seq[0], rewards_seq[1]]\n",
    "    nums = np.array([1 , 1 ])\n",
    "    rewards = np.array(y)\n",
    "    for i in range(n-2):\n",
    "        arm_means = rewards/nums\n",
    "        arm = np.argmax(arm_means)\n",
    "        flag = np.random.uniform(0,1,1)[0]\n",
    "        if flag > 1 - np.log(i+1)**0.5/np.sqrt(i+1) and i>50:\n",
    "            arm = 1 - arm\n",
    "        x.append(arm)\n",
    "        newr = rewards_seq[i+2]\n",
    "        y.append(newr)\n",
    "        nums[arm] += 1\n",
    "        rewards[arm] += newr\n",
    "    return np.sum(np.array(x))"
   ]
  },
  {
   "cell_type": "markdown",
   "id": "ddf5e8ef",
   "metadata": {},
   "source": [
    "### Histogram of $\\frac{S_{11}}{n}$"
   ]
  },
  {
   "cell_type": "code",
   "execution_count": 3,
   "id": "57a05e77",
   "metadata": {},
   "outputs": [
    {
     "data": {
      "text/plain": [
       "(array([254., 120.,  59.,  38.,  39.,  37.,  30.,  51., 143., 229.]),\n",
       " array([ 96. , 177.2, 258.4, 339.6, 420.8, 502. , 583.2, 664.4, 745.6,\n",
       "        826.8, 908. ]),\n",
       " <BarContainer object of 10 artists>)"
      ]
     },
     "execution_count": 3,
     "metadata": {},
     "output_type": "execute_result"
    },
    {
     "data": {
      "image/png": "[encoded data removed]",
      "text/plain": [
       "<Figure size 432x288 with 1 Axes>"
      ]
     },
     "metadata": {
      "needs_background": "light"
     },
     "output_type": "display_data"
    }
   ],
   "source": [
    "p = []\n",
    "for i in range(1000):\n",
    "    p.append(ECB_hist())\n",
    "plt.hist(np.array(p))"
   ]
  },
  {
   "cell_type": "code",
   "execution_count": 4,
   "id": "42d82bde",
   "metadata": {},
   "outputs": [],
   "source": [
    "# define erros\n",
    "def scaled_estimators(n,sampler):\n",
    "    x,y,noise = sampler(n)\n",
    "    X = np.zeros((n,2))\n",
    "    # construct X\n",
    "    X[:,0] = (np.array(x) == 0) - 0\n",
    "    X[:,1] = (np.array(x) == 1) - 0\n",
    "    # y\n",
    "    y = np.array(y)\n",
    "    \n",
    "    # compute OLS\n",
    "    M = LinearRegression( fit_intercept = False).fit(X, y)\n",
    "    coeff = M.coef_\n",
    "    coeff = coeff[0]\n",
    "    Sn = X.T@X\n",
    "    Sn = Sn[0,0]\n",
    "    \n",
    "    # standardize errors for ols\n",
    "    ols = np.sqrt(Sn)*(coeff - 0.3)\n",
    "    \n",
    "    # extract information for the first arm\n",
    "    ysub = y[np.array(x) == 0]\n",
    "    noise_sub = noise[np.array(x) == 0]\n",
    "    n1 = len(ysub)\n",
    "    \n",
    "    # define s0\n",
    "    s0 = np.exp(2)*np.log(n)\n",
    "    w = []\n",
    "    \n",
    "    # compute weights w\n",
    "    # consider self-scaled version\n",
    "    for i in range(n1):\n",
    "        w.append(f(1 + (i+1)/s0)/np.sqrt(s0))\n",
    "    w = np.array(w)\n",
    "    \n",
    "    # equivalent form for standardized residual\n",
    "    # factor 1/np.sqrt(np.sum(w**2)) is used to stablize the variance\n",
    "    olee = 1/np.sqrt(np.sum(w**2))*np.sum(w*noise_sub)\n",
    "    \n",
    "    return np.array([ols, olee]).reshape(1,2)\n",
    "    \n",
    "#   replication function\n",
    "def scaled_repli(N , n,  sampler):\n",
    "    E = np.zeros((N,2))\n",
    "    for i in range(N):\n",
    "        E[i,:] = scaled_estimators(n,sampler)\n",
    "    return E"
   ]
  },
  {
   "cell_type": "code",
   "execution_count": 5,
   "id": "19765c6a",
   "metadata": {},
   "outputs": [],
   "source": [
    "np.random.seed(666)\n",
    "# 3000 replications with n = 1000\n",
    "E = scaled_repli(3000, 1000, ECB)"
   ]
  },
  {
   "cell_type": "code",
   "execution_count": 6,
   "id": "3506a001",
   "metadata": {},
   "outputs": [
    {
     "name": "stderr",
     "output_type": "stream",
     "text": [
      "/Users/mufangying/opt/anaconda3/lib/python3.8/site-packages/seaborn/distributions.py:2551: FutureWarning: `distplot` is a deprecated function and will be removed in a future version. Please adapt your code to use either `displot` (a figure-level function with similar flexibility) or `histplot` (an axes-level function for histograms).\n",
      "  warnings.warn(msg, FutureWarning)\n"
     ]
    },
    {
     "data": {
      "image/png": "[encoded data removed]",
      "text/plain": [
       "<Figure size 576x360 with 1 Axes>"
      ]
     },
     "metadata": {},
     "output_type": "display_data"
    }
   ],
   "source": [
    "sns.set(rc={'figure.figsize':(8,5)})\n",
    "sns.set_style(\"white\")\n",
    "#sns.histplot(E[:,0], label = 'OLS', stat = 'density', kde = True, line_kws = {'lw': 5.5} , lw = 1.5)\n",
    "sns.distplot(E[:,0],  norm_hist=True,  kde=False, label=\"OLS\",   bins=int(180/5), color = 'darkblue', \\\n",
    "             hist_kws={'edgecolor':'black'}, kde_kws={'linewidth': 3})\n",
    "sns.distplot(E[:,1], norm_hist=True,  kde=False, label=\"ALEE\", bins=int(180/5), color = 'green', \\\n",
    "             hist_kws={'edgecolor':'black'},kde_kws={'linewidth': 3})\n",
    "plt.plot(np.arange(-4, 4, 0.01), norm.pdf(np.arange(-4, 4, 0.01), 0, 1), \\\n",
    "         label = r'$\\mathcal{N}(0,1)$', c = \"black\", lw=2.5)\n",
    "plt.ylabel('')\n",
    "\n",
    "plt.legend(prop={'size': 20})\n",
    "plt.yticks([], [])\n",
    "plt.xticks(fontsize = 18)\n",
    "plt.xlim(-4.3,4.3)\n",
    "plt.title(r'Distribution of errors in $\\epsilon$-greedy', fontsize = 28, y = 1.02)\n",
    "plt.savefig('Bandit-ECB-OLS-OLEE.pdf')"
   ]
  },
  {
   "cell_type": "code",
   "execution_count": null,
   "id": "0a829492",
   "metadata": {},
   "outputs": [],
   "source": []
  },
  {
   "cell_type": "markdown",
   "id": "e82310ed",
   "metadata": {},
   "source": [
    "## AR(1) model"
   ]
  },
  {
   "cell_type": "code",
   "execution_count": 7,
   "id": "e38c9c25",
   "metadata": {},
   "outputs": [],
   "source": [
    "# generate data\n",
    "def AR(n):\n",
    "    x = np.zeros(n)\n",
    "    y = np.zeros(n)\n",
    "    noise_seq = np.random.normal(0,1,n)\n",
    "    for i in range(n):\n",
    "        y[i] = x[i] + noise_seq[i]\n",
    "        if i < n -1:\n",
    "            x[i+1] = y[i]\n",
    "    return x,y,noise_seq\n",
    "\n",
    "def AR_scaled_estimators(n):\n",
    "    x,y,noise_seq = AR(n)\n",
    "    X = x.reshape(-1,1)\n",
    "\n",
    "    # compute OLS\n",
    "    M = LinearRegression( fit_intercept = False).fit(X, y)\n",
    "    coeff = M.coef_\n",
    "    coeff = coeff[0]\n",
    "    Sn = X.T@X\n",
    "    Sn = Sn[0,0]\n",
    "   \n",
    "    ols = np.sqrt(Sn)*(coeff - 1)\n",
    "    \n",
    "    s0 = np.exp(2)*np.log(n)\n",
    "    w = []\n",
    "    \n",
    "    # consider f2 to compute weights w\n",
    "    for i in range(n):\n",
    "        w.append(f(1 + np.sum(x[:(i+1),]**2)/s0)*x[i]/np.sqrt(s0))\n",
    "    w = np.array(w)\n",
    "\n",
    "    # scale the variance\n",
    "    olee = 1/np.sqrt(np.sum(w**2))*np.sum(w*noise_seq)\n",
    "    \n",
    "    return np.array([ols, olee]).reshape(1,2)\n",
    "    \n",
    "\n",
    "def AR_repli(N , n):\n",
    "    E = np.zeros((N,2))\n",
    "    for i in range(N):\n",
    "        E[i,:] = AR_scaled_estimators(n)\n",
    "    return E"
   ]
  },
  {
   "cell_type": "markdown",
   "id": "019caa4d",
   "metadata": {},
   "source": [
    "### Replications"
   ]
  },
  {
   "cell_type": "code",
   "execution_count": 8,
   "id": "d7d8fb1c",
   "metadata": {},
   "outputs": [],
   "source": [
    "np.random.seed(666)\n",
    "E1 = AR_repli(3000, 1000)"
   ]
  },
  {
   "cell_type": "code",
   "execution_count": 9,
   "id": "4c268e9b",
   "metadata": {},
   "outputs": [
    {
     "name": "stderr",
     "output_type": "stream",
     "text": [
      "/Users/mufangying/opt/anaconda3/lib/python3.8/site-packages/seaborn/distributions.py:2551: FutureWarning: `distplot` is a deprecated function and will be removed in a future version. Please adapt your code to use either `displot` (a figure-level function with similar flexibility) or `histplot` (an axes-level function for histograms).\n",
      "  warnings.warn(msg, FutureWarning)\n"
     ]
    },
    {
     "data": {
      "image/png": "[encoded data removed]",
      "text/plain": [
       "<Figure size 576x360 with 1 Axes>"
      ]
     },
     "metadata": {},
     "output_type": "display_data"
    }
   ],
   "source": [
    "sns.set(rc={'figure.figsize':(8,5)})\n",
    "sns.set_style(\"white\")\n",
    "sns.distplot(E1[:,0],  norm_hist=True,  kde=False, label=\"OLS\",   bins=int(180/5), color = 'darkblue', \\\n",
    "             hist_kws={'edgecolor':'black'}, kde_kws={'linewidth': 3})\n",
    "sns.distplot(E1[:,1], norm_hist=True,  kde=False, label=\"ALEE\", bins=int(180/5), color = 'green', \\\n",
    "             hist_kws={'edgecolor':'black'},kde_kws={'linewidth': 3})\n",
    "plt.plot(np.arange(-4, 4, 0.01), norm.pdf(np.arange(-4, 4, 0.01), 0, 1), label = r'$\\mathcal{N}(0,1)$', c = \"black\", lw=2.5)\n",
    "plt.ylabel('')\n",
    "\n",
    "plt.legend(prop={'size': 20})\n",
    "plt.yticks([], [])\n",
    "plt.xticks(fontsize = 18)\n",
    "plt.xlim(-4.3,4.3)\n",
    "plt.title('Distribution of errors in AR(1)', fontsize = 28, y = 1.02)\n",
    "plt.savefig('AR1-OLS-OLEE.pdf')"
   ]
  },
  {
   "cell_type": "code",
   "execution_count": null,
   "id": "591cdf4e",
   "metadata": {},
   "outputs": [],
   "source": []
  },
  {
   "cell_type": "code",
   "execution_count": null,
   "id": "a0fabc13",
   "metadata": {},
   "outputs": [],
   "source": []
  }
 ],
 "metadata": {
  "kernelspec": {
   "display_name": "Python 3",
   "language": "python",
   "name": "python3"
  },
  "language_info": {
   "codemirror_mode": {
    "name": "ipython",
    "version": 3
   },
   "file_extension": ".py",
   "mimetype": "text/x-python",
   "name": "python",
   "nbconvert_exporter": "python",
   "pygments_lexer": "ipython3",
   "version": "3.8.5"
  }
 },
 "nbformat": 4,
 "nbformat_minor": 5
}

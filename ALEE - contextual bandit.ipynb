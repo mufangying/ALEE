{
 "cells": [
  {
   "cell_type": "markdown",
   "id": "0b08f673",
   "metadata": {},
   "source": [
    "# 2-D  coverage and volumn"
   ]
  },
  {
   "cell_type": "code",
   "execution_count": 1,
   "id": "3db0d2bf",
   "metadata": {},
   "outputs": [],
   "source": [
    "import numpy as np\n",
    "import pandas as pd\n",
    "from sklearn.linear_model import LinearRegression\n",
    "import seaborn as sns\n",
    "import matplotlib.pyplot as plt\n",
    "import numpy as np\n",
    "from scipy.stats import norm\n",
    "import pandas as pd\n",
    "import scipy\n",
    "from scipy.stats import chi2"
   ]
  },
  {
   "cell_type": "markdown",
   "id": "ed35ae17",
   "metadata": {},
   "source": [
    "## 2-arm contextual bandit with $\\epsilon$-greedy algorithm"
   ]
  },
  {
   "cell_type": "code",
   "execution_count": 2,
   "id": "a210661f",
   "metadata": {},
   "outputs": [],
   "source": [
    "# define reward function\n",
    "def get_noise():\n",
    "    return  np.random.normal(0,1,1)[0]\n",
    "\n",
    "def get_unitv():\n",
    "    # generate unit vector in sphere\n",
    "    x = np.random.normal(0,1,2)\n",
    "    return x/np.linalg.norm(x)\n",
    "\n",
    "\n",
    "# y = 0.3*(x_1 + x_2) + noise\n",
    "def ECB(n):\n",
    "    # true parameter\n",
    "    theta = np.array([0.3,0.3]).reshape(-1,1)\n",
    "    \n",
    "    # data matrix\n",
    "    X = np.array([get_unitv() for i in range(10)])\n",
    "    \n",
    "    # contextual bandits - action set\n",
    "    A = X.copy()\n",
    "    \n",
    "    y = X@theta + np.array([get_noise() for i in range(10)]).reshape(-1,1)\n",
    "    \n",
    "    y = y.reshape(-1)\n",
    "    nums = np.ones(10)\n",
    "    rewards = y.copy().reshape(-1)\n",
    "    \n",
    "    for i in range(n-10):\n",
    "        arm_means = rewards/nums\n",
    "        arm = np.argmax(arm_means)\n",
    "        # defining decaying rate\n",
    "        flag = np.random.uniform(0,1,1)[0]\n",
    "        if flag > np.log(i+1)**2/(i+1) and i > 50:\n",
    "            arm = np.random.randint(1,11) - 1\n",
    "        \n",
    "        # append new observation\n",
    "        newx = A[arm,:]\n",
    "        X = np.append(X, newx.reshape(1,-1), axis = 0 )\n",
    "        newr = np.sum(newx*0.3)  + get_noise()\n",
    "        y = np.append(y, newr)\n",
    "        \n",
    "    return X, y"
   ]
  },
  {
   "cell_type": "code",
   "execution_count": 3,
   "id": "646118db",
   "metadata": {},
   "outputs": [],
   "source": [
    "def Volumn(V):\n",
    "    # given a matrix V, compute the volumn correspoing to the ellipse of the format x^T V x \\leq 1\n",
    "    # universal constant are dropped\n",
    "    s =  np.linalg.svd(V)[1]\n",
    "    return 1/np.product(np.sqrt(s))\n",
    "\n",
    "def scaled_estimators(n, lam, sampler):\n",
    "    \n",
    "    # consider confidence level 0.8, 0.85, 0.9\n",
    "    cql = chi2.ppf([0.8, 0.85, 0.9], 2)\n",
    "    true_theta = np.array([0.3, 0.3]).reshape(-1,1)\n",
    "    CI_data = np.zeros((2,15))\n",
    "    \n",
    "    X,y = sampler(n)\n",
    "    #######################################\n",
    "    # compute OLS\n",
    "    M = LinearRegression(fit_intercept = False).fit(X, y)\n",
    "    coeff = M.coef_.copy().reshape(-1,1)\n",
    "    Sn = X.T@X\n",
    "    residual = y.reshape(-1,1) - X@coeff\n",
    "    # compute residual and use it as an estimate of sigma^2\n",
    "    sig_h = np.sqrt(np.mean(residual**2))\n",
    "    \n",
    "    c = 1/sig_h**2*(coeff.reshape(1,-1)- true_theta.reshape(1,-1))@Sn@(coeff - true_theta)\n",
    "    c = c.reshape(-1)[0]\n",
    "    for i in range(3):\n",
    "        cq = cql[i]\n",
    "        cover = c < cq - 0\n",
    "        r = cq**1.5*sig_h**3\n",
    "        v = np.log(Volumn(Sn)*r)\n",
    "        CI_data[:,0 + 5*i] = np.array([cover, v]).reshape(-1)\n",
    "    \n",
    "    #######################################\n",
    "    # W-decorrelation\n",
    "    W_lambdas = np.ones(n)*lam\n",
    "    # Latest parameter estimate vector\n",
    "    wols = M.coef_.copy()\n",
    "    # Latest w_t vector\n",
    "    w = np.zeros((2,1))\n",
    "    # Latest matrix W_tX_t = w_1 x_1^T + ... + w_t x_t^T\n",
    "    WX = np.zeros((2,2))\n",
    "    # Latest vector of marginal variances reward_vars * (w_1**2 + ... + w_t**2)\n",
    "    W = np.zeros_like(X)\n",
    "    for t in range(n):\n",
    "        # Update w_t = (1/(norm{x_t}^2+lambda_t)) (x_t - W_{t-1} X_{t-1} x_t)\n",
    "        w = (np.eye(2) - WX)@X[t,:].reshape(-1,1) \n",
    "        w = w/(1.0 + W_lambdas[t])\n",
    "        W[t, :] = w.reshape(-1)\n",
    "        # Update beta_t = beta_{t-1} + w_t (y_t - <beta_OLS, x_t>)\n",
    "        wols += w.reshape(-1) * (y[t] - np.sum(X[t,:]*coeff.reshape(-1)) ) ###\n",
    "        # Update W_tX_t = W_{t-1}X_{t-1} + w_t x_t^T \n",
    "        WX = WX + w@X[t,:].reshape(1,-1)\n",
    "        \n",
    "    WW = np.linalg.inv(W.T@W)\n",
    "    r = cq**1.5*sig_h**3\n",
    "   \n",
    "    # compute statistic\n",
    "    c = 1/sig_h**2*(wols - true_theta.reshape(1,-1))@WW@(wols.reshape(-1,1) - true_theta)\n",
    "    c = c.reshape(-1)[0]\n",
    "    for i in range(3):\n",
    "        cq = cql[i]\n",
    "        cover = c < cq - 0\n",
    "        r = cq**1.5*sig_h**3\n",
    "        v = np.log(Volumn(WW)*r)\n",
    "        CI_data[:,1 + 5*i] = np.array([cover, v]).reshape(-1)\n",
    "    \n",
    "    \n",
    "    \n",
    "    ######################################\n",
    "    #  ALEE\n",
    "    Z = np.zeros_like(X)\n",
    "    for t in range(n):\n",
    "        if t == 0:\n",
    "            S = np.log(n)*np.eye(2)\n",
    "        elif t == 1:\n",
    "            Xsub = X[:t,:].reshape(-1,2)\n",
    "            S = np.log(n)*np.eye(2) + Xsub.T@Xsub\n",
    "        else:\n",
    "            Xsub = X[:t,:]\n",
    "            S = np.log(n)*np.eye(2) + Xsub.T@Xsub\n",
    "        \n",
    "        S_invh = scipy.linalg.sqrtm(np.linalg.inv(S))\n",
    "        \n",
    "        zt = S_invh@X[t,:].reshape(-1,1)\n",
    "        Z[t,:] = zt.reshape(-1)\n",
    "    \n",
    "    W = np.zeros_like(Z)\n",
    "    for i in range(n):\n",
    "        if i==0:\n",
    "            z = Z[0,:].reshape(1,-1)\n",
    "            vtt = np.eye(2)\n",
    "            vt = np.linalg.inv(np.eye(2) + z.T@z)\n",
    "        elif i == 1:\n",
    "            z = Z[:(i+1),:]\n",
    "            vtt = vt\n",
    "            vt = np.linalg.inv(np.eye(2) + z.T@z)\n",
    "        else:\n",
    "            z = Z[:(i+1),:]\n",
    "            vt = np.linalg.inv(np.eye(2) + z.T@z)\n",
    "            z = Z[:i,:]\n",
    "            vtt = np.linalg.inv(np.eye(2) + z.T@z)\n",
    "        \n",
    "        w = vt@Z[i,:].reshape(-1,1)\n",
    "        \n",
    "        w_factor = np.sqrt(1 + Z[i,:].reshape(1,-1)@vtt@Z[i,:].reshape(-1,1))\n",
    "        w = w_factor.reshape(-1)[0]*w\n",
    "        \n",
    "        W[i,:] = w.reshape(-1)\n",
    "    \n",
    "    alee = np.linalg.inv(W.T@X)@W.T@y.reshape(-1,1)\n",
    "    \n",
    "    A = W.T@X\n",
    "    OSn = A.T@A\n",
    "\n",
    "    c = 1/sig_h**2*(alee.reshape(1,-1)- true_theta.reshape(1,-1))@OSn@(alee - true_theta)\n",
    "    c = c.reshape(-1)[0]\n",
    "    for i in range(3):\n",
    "        cq = cql[i]\n",
    "        cover = c < cq - 0\n",
    "        r = cq**1.5*sig_h**3\n",
    "        v = np.log(Volumn(OSn)*r)\n",
    "        CI_data[:,3 + 5*i] = np.array([cover, v]).reshape(-1)\n",
    "    \n",
    "    \n",
    "    ######################################\n",
    "    # self-normalized martingale\n",
    "    \n",
    "    rols = np.linalg.inv(X.T@X + np.eye(2))@X.T@y.reshape(-1,1)\n",
    "    \n",
    "    Vt = np.eye(2) + Sn\n",
    "    r = sig_h*np.sqrt(np.log(100*np.linalg.det(Vt))) + 1\n",
    "    alpha_list = [0.2, 0.15, 0.1]\n",
    "\n",
    "    c = (rols.reshape(1,-1) - true_theta.reshape(1,-1))@Vt@(rols - true_theta)\n",
    "    c = c.reshape(-1)[0]\n",
    "    for i in range(3):\n",
    "        alpha = alpha_list[i]\n",
    "        r = sig_h*np.sqrt(np.log(np.linalg.det(Vt)/alpha**2)) + 1\n",
    "        cover = c < r**2 - 0\n",
    "        v = np.log(Volumn(Vt)*r**3)\n",
    "        CI_data[:,4 + 5*i] = np.array([cover, v]).reshape(-1)\n",
    "    \n",
    "    return CI_data\n",
    "    \n",
    "#   replication function\n",
    "def ACV_repli(N , n,  lam, sampler):\n",
    "    E1 = np.zeros((N, 10))\n",
    "    E2 = np.zeros((N, 10))\n",
    "    E3 = np.zeros((N, 10))\n",
    "    \n",
    "    for i in range(N):\n",
    "        output = scaled_estimators(n, lam, sampler)\n",
    "        E1[i,:] =  output[:,:5].reshape(1,10)\n",
    "        E2[i,:] =  output[:,5:10].reshape(1,10)\n",
    "        E3[i,:] =  output[:,10:15].reshape(1,10)\n",
    "        \n",
    "    return (E1,E2,E3)"
   ]
  },
  {
   "cell_type": "code",
   "execution_count": 4,
   "id": "e591bffe",
   "metadata": {},
   "outputs": [],
   "source": [
    "def compute_lam(N, n, sampler):\n",
    "    \n",
    "    record = np.zeros(N)\n",
    "    for k in range(N):\n",
    "        \n",
    "        X,y = sampler(n)\n",
    "\n",
    "        evalue, evector = np.linalg.eig(X.T@X)\n",
    "        \n",
    "        record[k] = np.min(evalue)\n",
    "        \n",
    "    return np.percentile(record, 10)"
   ]
  },
  {
   "cell_type": "code",
   "execution_count": 5,
   "id": "7cfdfb3b",
   "metadata": {},
   "outputs": [],
   "source": [
    "np.random.seed(517)\n",
    "lam = compute_lam(1000, 1000, ECB)/np.log(1000)"
   ]
  },
  {
   "cell_type": "code",
   "execution_count": 6,
   "id": "04872728",
   "metadata": {},
   "outputs": [],
   "source": [
    "np.random.seed(517)\n",
    "E1,E2,E3 = ACV_repli(1000, 1000, lam, ECB)\n",
    "np.save('E1', E1)\n",
    "np.save('E2', E2)\n",
    "np.save('E3', E3)"
   ]
  },
  {
   "cell_type": "markdown",
   "id": "8682c81b",
   "metadata": {},
   "source": [
    "# Confidence level 0.8"
   ]
  },
  {
   "cell_type": "markdown",
   "id": "3c2b257f",
   "metadata": {},
   "source": [
    "## First row represents coverage ; second row represents average log (Volume)"
   ]
  },
  {
   "cell_type": "code",
   "execution_count": 7,
   "id": "20600895",
   "metadata": {},
   "outputs": [
    {
     "data": {
      "text/html": [
       "<div>\n",
       "<style scoped>\n",
       "    .dataframe tbody tr th:only-of-type {\n",
       "        vertical-align: middle;\n",
       "    }\n",
       "\n",
       "    .dataframe tbody tr th {\n",
       "        vertical-align: top;\n",
       "    }\n",
       "\n",
       "    .dataframe thead th {\n",
       "        text-align: right;\n",
       "    }\n",
       "</style>\n",
       "<table border=\"1\" class=\"dataframe\">\n",
       "  <thead>\n",
       "    <tr style=\"text-align: right;\">\n",
       "      <th></th>\n",
       "      <th>ols</th>\n",
       "      <th>W</th>\n",
       "      <th>alee</th>\n",
       "      <th>Concentration</th>\n",
       "    </tr>\n",
       "  </thead>\n",
       "  <tbody>\n",
       "    <tr>\n",
       "      <th>0</th>\n",
       "      <td>0.776</td>\n",
       "      <td>0.810</td>\n",
       "      <td>0.877</td>\n",
       "      <td>1.000</td>\n",
       "    </tr>\n",
       "    <tr>\n",
       "      <th>1</th>\n",
       "      <td>-4.404</td>\n",
       "      <td>-2.543</td>\n",
       "      <td>-3.114</td>\n",
       "      <td>-1.366</td>\n",
       "    </tr>\n",
       "  </tbody>\n",
       "</table>\n",
       "</div>"
      ],
      "text/plain": [
       "     ols      W   alee  Concentration\n",
       "0  0.776  0.810  0.877          1.000\n",
       "1 -4.404 -2.543 -3.114         -1.366"
      ]
     },
     "execution_count": 7,
     "metadata": {},
     "output_type": "execute_result"
    }
   ],
   "source": [
    "df = pd.DataFrame(np.mean(E1, axis = 0).reshape(2,5)[:,[0,1,3,4]], columns = ['ols','W', 'alee', 'Concentration'])\n",
    "round(df,3)"
   ]
  },
  {
   "cell_type": "markdown",
   "id": "8efbd2ce",
   "metadata": {},
   "source": [
    "## Standard errors for empirical coverage and logarithm of volume"
   ]
  },
  {
   "cell_type": "code",
   "execution_count": 8,
   "id": "0c928d63",
   "metadata": {},
   "outputs": [
    {
     "data": {
      "text/html": [
       "<div>\n",
       "<style scoped>\n",
       "    .dataframe tbody tr th:only-of-type {\n",
       "        vertical-align: middle;\n",
       "    }\n",
       "\n",
       "    .dataframe tbody tr th {\n",
       "        vertical-align: top;\n",
       "    }\n",
       "\n",
       "    .dataframe thead th {\n",
       "        text-align: right;\n",
       "    }\n",
       "</style>\n",
       "<table border=\"1\" class=\"dataframe\">\n",
       "  <thead>\n",
       "    <tr style=\"text-align: right;\">\n",
       "      <th></th>\n",
       "      <th>ols</th>\n",
       "      <th>W</th>\n",
       "      <th>alee</th>\n",
       "      <th>Concentration</th>\n",
       "    </tr>\n",
       "  </thead>\n",
       "  <tbody>\n",
       "    <tr>\n",
       "      <th>0</th>\n",
       "      <td>0.417</td>\n",
       "      <td>0.392</td>\n",
       "      <td>0.328</td>\n",
       "      <td>0.000</td>\n",
       "    </tr>\n",
       "    <tr>\n",
       "      <th>1</th>\n",
       "      <td>0.092</td>\n",
       "      <td>0.068</td>\n",
       "      <td>0.082</td>\n",
       "      <td>0.075</td>\n",
       "    </tr>\n",
       "  </tbody>\n",
       "</table>\n",
       "</div>"
      ],
      "text/plain": [
       "     ols      W   alee  Concentration\n",
       "0  0.417  0.392  0.328          0.000\n",
       "1  0.092  0.068  0.082          0.075"
      ]
     },
     "execution_count": 8,
     "metadata": {},
     "output_type": "execute_result"
    }
   ],
   "source": [
    "df = pd.DataFrame(np.std(E1, axis = 0).reshape(2,5)[:,[0,1,3,4]], columns = ['ols','W', 'alee', 'Concentration'])\n",
    "round(df,3)"
   ]
  },
  {
   "cell_type": "markdown",
   "id": "cc0aa788",
   "metadata": {},
   "source": [
    "# Confidence level 0.85"
   ]
  },
  {
   "cell_type": "code",
   "execution_count": 9,
   "id": "f6b7a293",
   "metadata": {},
   "outputs": [
    {
     "data": {
      "text/html": [
       "<div>\n",
       "<style scoped>\n",
       "    .dataframe tbody tr th:only-of-type {\n",
       "        vertical-align: middle;\n",
       "    }\n",
       "\n",
       "    .dataframe tbody tr th {\n",
       "        vertical-align: top;\n",
       "    }\n",
       "\n",
       "    .dataframe thead th {\n",
       "        text-align: right;\n",
       "    }\n",
       "</style>\n",
       "<table border=\"1\" class=\"dataframe\">\n",
       "  <thead>\n",
       "    <tr style=\"text-align: right;\">\n",
       "      <th></th>\n",
       "      <th>ols</th>\n",
       "      <th>W</th>\n",
       "      <th>alee</th>\n",
       "      <th>Concentration</th>\n",
       "    </tr>\n",
       "  </thead>\n",
       "  <tbody>\n",
       "    <tr>\n",
       "      <th>0</th>\n",
       "      <td>0.826</td>\n",
       "      <td>0.868</td>\n",
       "      <td>0.917</td>\n",
       "      <td>1.000</td>\n",
       "    </tr>\n",
       "    <tr>\n",
       "      <th>1</th>\n",
       "      <td>-4.157</td>\n",
       "      <td>-2.296</td>\n",
       "      <td>-2.867</td>\n",
       "      <td>-1.323</td>\n",
       "    </tr>\n",
       "  </tbody>\n",
       "</table>\n",
       "</div>"
      ],
      "text/plain": [
       "     ols      W   alee  Concentration\n",
       "0  0.826  0.868  0.917          1.000\n",
       "1 -4.157 -2.296 -2.867         -1.323"
      ]
     },
     "execution_count": 9,
     "metadata": {},
     "output_type": "execute_result"
    }
   ],
   "source": [
    "df = pd.DataFrame(np.mean(E2, axis = 0).reshape(2,5)[:,[0,1,3,4]], columns = ['ols','W', 'alee', 'Concentration'])\n",
    "round(df,3)"
   ]
  },
  {
   "cell_type": "markdown",
   "id": "f632aaf9",
   "metadata": {},
   "source": [
    "## Standard errors for empirical coverage and logarithm of volume"
   ]
  },
  {
   "cell_type": "code",
   "execution_count": 10,
   "id": "22869fff",
   "metadata": {},
   "outputs": [
    {
     "data": {
      "text/html": [
       "<div>\n",
       "<style scoped>\n",
       "    .dataframe tbody tr th:only-of-type {\n",
       "        vertical-align: middle;\n",
       "    }\n",
       "\n",
       "    .dataframe tbody tr th {\n",
       "        vertical-align: top;\n",
       "    }\n",
       "\n",
       "    .dataframe thead th {\n",
       "        text-align: right;\n",
       "    }\n",
       "</style>\n",
       "<table border=\"1\" class=\"dataframe\">\n",
       "  <thead>\n",
       "    <tr style=\"text-align: right;\">\n",
       "      <th></th>\n",
       "      <th>ols</th>\n",
       "      <th>W</th>\n",
       "      <th>alee</th>\n",
       "      <th>Concentration</th>\n",
       "    </tr>\n",
       "  </thead>\n",
       "  <tbody>\n",
       "    <tr>\n",
       "      <th>0</th>\n",
       "      <td>0.379</td>\n",
       "      <td>0.338</td>\n",
       "      <td>0.276</td>\n",
       "      <td>0.000</td>\n",
       "    </tr>\n",
       "    <tr>\n",
       "      <th>1</th>\n",
       "      <td>0.092</td>\n",
       "      <td>0.068</td>\n",
       "      <td>0.082</td>\n",
       "      <td>0.075</td>\n",
       "    </tr>\n",
       "  </tbody>\n",
       "</table>\n",
       "</div>"
      ],
      "text/plain": [
       "     ols      W   alee  Concentration\n",
       "0  0.379  0.338  0.276          0.000\n",
       "1  0.092  0.068  0.082          0.075"
      ]
     },
     "execution_count": 10,
     "metadata": {},
     "output_type": "execute_result"
    }
   ],
   "source": [
    "df = pd.DataFrame(np.std(E2, axis = 0).reshape(2,5)[:,[0,1,3,4]], columns = ['ols','W', 'alee', 'Concentration'])\n",
    "round(df,3)"
   ]
  },
  {
   "cell_type": "code",
   "execution_count": null,
   "id": "01b2fd3c",
   "metadata": {},
   "outputs": [],
   "source": []
  },
  {
   "cell_type": "markdown",
   "id": "6ba330c5",
   "metadata": {},
   "source": [
    "# Confidence level 0.9"
   ]
  },
  {
   "cell_type": "code",
   "execution_count": 11,
   "id": "2bf1573b",
   "metadata": {},
   "outputs": [
    {
     "data": {
      "text/html": [
       "<div>\n",
       "<style scoped>\n",
       "    .dataframe tbody tr th:only-of-type {\n",
       "        vertical-align: middle;\n",
       "    }\n",
       "\n",
       "    .dataframe tbody tr th {\n",
       "        vertical-align: top;\n",
       "    }\n",
       "\n",
       "    .dataframe thead th {\n",
       "        text-align: right;\n",
       "    }\n",
       "</style>\n",
       "<table border=\"1\" class=\"dataframe\">\n",
       "  <thead>\n",
       "    <tr style=\"text-align: right;\">\n",
       "      <th></th>\n",
       "      <th>ols</th>\n",
       "      <th>W</th>\n",
       "      <th>alee</th>\n",
       "      <th>Concentration</th>\n",
       "    </tr>\n",
       "  </thead>\n",
       "  <tbody>\n",
       "    <tr>\n",
       "      <th>0</th>\n",
       "      <td>0.884</td>\n",
       "      <td>0.916</td>\n",
       "      <td>0.954</td>\n",
       "      <td>1.000</td>\n",
       "    </tr>\n",
       "    <tr>\n",
       "      <th>1</th>\n",
       "      <td>-3.867</td>\n",
       "      <td>-2.006</td>\n",
       "      <td>-2.577</td>\n",
       "      <td>-1.264</td>\n",
       "    </tr>\n",
       "  </tbody>\n",
       "</table>\n",
       "</div>"
      ],
      "text/plain": [
       "     ols      W   alee  Concentration\n",
       "0  0.884  0.916  0.954          1.000\n",
       "1 -3.867 -2.006 -2.577         -1.264"
      ]
     },
     "execution_count": 11,
     "metadata": {},
     "output_type": "execute_result"
    }
   ],
   "source": [
    "df = pd.DataFrame(np.mean(E3, axis = 0).reshape(2,5)[:,[0,1,3,4]], columns = ['ols','W', 'alee', 'Concentration'])\n",
    "round(df,3)"
   ]
  },
  {
   "cell_type": "markdown",
   "id": "eb7bbf39",
   "metadata": {},
   "source": [
    "## Standard errors for empirical coverage and logarithm of volume"
   ]
  },
  {
   "cell_type": "code",
   "execution_count": 12,
   "id": "940feff8",
   "metadata": {},
   "outputs": [
    {
     "data": {
      "text/html": [
       "<div>\n",
       "<style scoped>\n",
       "    .dataframe tbody tr th:only-of-type {\n",
       "        vertical-align: middle;\n",
       "    }\n",
       "\n",
       "    .dataframe tbody tr th {\n",
       "        vertical-align: top;\n",
       "    }\n",
       "\n",
       "    .dataframe thead th {\n",
       "        text-align: right;\n",
       "    }\n",
       "</style>\n",
       "<table border=\"1\" class=\"dataframe\">\n",
       "  <thead>\n",
       "    <tr style=\"text-align: right;\">\n",
       "      <th></th>\n",
       "      <th>ols</th>\n",
       "      <th>W</th>\n",
       "      <th>alee</th>\n",
       "      <th>Concentration</th>\n",
       "    </tr>\n",
       "  </thead>\n",
       "  <tbody>\n",
       "    <tr>\n",
       "      <th>0</th>\n",
       "      <td>0.320</td>\n",
       "      <td>0.277</td>\n",
       "      <td>0.209</td>\n",
       "      <td>0.000</td>\n",
       "    </tr>\n",
       "    <tr>\n",
       "      <th>1</th>\n",
       "      <td>0.092</td>\n",
       "      <td>0.068</td>\n",
       "      <td>0.082</td>\n",
       "      <td>0.076</td>\n",
       "    </tr>\n",
       "  </tbody>\n",
       "</table>\n",
       "</div>"
      ],
      "text/plain": [
       "     ols      W   alee  Concentration\n",
       "0  0.320  0.277  0.209          0.000\n",
       "1  0.092  0.068  0.082          0.076"
      ]
     },
     "execution_count": 12,
     "metadata": {},
     "output_type": "execute_result"
    }
   ],
   "source": [
    "df = pd.DataFrame(np.std(E3, axis = 0).reshape(2,5)[:,[0,1,3,4]], columns = ['ols','W', 'alee', 'Concentration'])\n",
    "round(df,3)"
   ]
  },
  {
   "cell_type": "code",
   "execution_count": null,
   "id": "9bc2bac4",
   "metadata": {},
   "outputs": [],
   "source": []
  },
  {
   "cell_type": "code",
   "execution_count": null,
   "id": "e6dfeb9b",
   "metadata": {},
   "outputs": [],
   "source": []
  },
  {
   "cell_type": "code",
   "execution_count": null,
   "id": "448c74ff",
   "metadata": {},
   "outputs": [],
   "source": []
  }
 ],
 "metadata": {
  "kernelspec": {
   "display_name": "Python 3",
   "language": "python",
   "name": "python3"
  },
  "language_info": {
   "codemirror_mode": {
    "name": "ipython",
    "version": 3
   },
   "file_extension": ".py",
   "mimetype": "text/x-python",
   "name": "python",
   "nbconvert_exporter": "python",
   "pygments_lexer": "ipython3",
   "version": "3.8.5"
  }
 },
 "nbformat": 4,
 "nbformat_minor": 5
}
